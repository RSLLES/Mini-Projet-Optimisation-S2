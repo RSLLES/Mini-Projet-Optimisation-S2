{
 "cells": [
  {
   "cell_type": "markdown",
   "metadata": {},
   "source": [
    "# Projet d'optimisation Groupe 6 : Tout un fromage"
   ]
  },
  {
   "cell_type": "markdown",
   "metadata": {},
   "source": [
    "## Partie 1 : Modélisation"
   ]
  },
  {
   "cell_type": "markdown",
   "metadata": {},
   "source": [
    "#### Notations générales\n",
    "\n",
    "Dans tous le problème, on notera les différents produits à l'aide des indices suivants : $B$ pour le beurre, $G$ pour le gouda, $E$ pour l'edam et $LT$ pour le lait (transformé).\n",
    "On notera également l'ensemble des produits $Prod = \\{B, G, E, LT \\}$ pour simplifier certaines expressions faisant appelle aux quatres produits. De la même façon, on note $LB$ l'indice pour le lait brut utilisé dans la fabrication des produits précédents.\n",
    "\n",
    "Également, en considérant une grandeur quelconque $Y$, celle ci sera indexée de la forme $Y_k^i$ avec $k \\in Prod$ désignant le produit concerné, et $i \\in \\N$ indiquant l'année à laquelle la grandeur est observée, afin de discrétiser le problème dans le temps. On note $\\Delta^i Y_k = Y^i_k - Y^{i-1}_k$. Il est possible de parfois omettre l'indice $i$ pour plus de lésibilité lorsque qu'il n'y a aucune ammbiguite.\n",
    "\n",
    "Finalement, on introduit les grandeurs suivantes :\n",
    "- $P^i_k$ est le prix du produit $k$ pendant l'année $i$\n",
    "- $Q^i_k$ est la quantité produite et commerciable du produit $k$ pendant l'année $i$"
   ]
  },
  {
   "cell_type": "markdown",
   "metadata": {},
   "source": [
    "#### Questions\n",
    "\n",
    "1. En introduisant l’élasticité-prix de chacun des produits, écrire la relation entre les variations de prix et de quantités produites. Les fromages (gouda et edam) étant des produits ”complémentaires” (qui peuvent se substituer l’un à l’autre), on introduira de plus l’élasticité-prix croisée entre ces deux produits.\n",
    "\n",
    "On définit l'élasticité-prix d'un produit $k \\in Prod$ comme le rapport entre le taux de variation de la demande et le taux de variation du prix du produit. Ainsi, on pose $e$ telle que :\n",
    "\n",
    "$$ \\forall k \\in Prod, e_k = \\frac{\\frac{\\Delta Q_k}{Q_k}}{\\frac{\\Delta P_k}{P_k}} = \n",
    "\\frac{\\Delta Q_k}{\\Delta P_k} \\times \\frac{P_k}{Q_k}$$\n",
    "\n",
    "Ce rapport est généralement négatif, traduisant qu'une augmentation du prix fait chuter la demande.\n",
    "\n",
    "Il est a noté que les deux fromages sont des produits substituables, c'est à dire qu'une augmentation du prix de l'un va diminuer la quantité demandée de celui ci, mais va également produire une augmentation de la quantité demandé de l'autre, puisque les consommateurs se rabattent alors sur l'autre. On peut alors définir l'élasticité-prix croisée pour qualifier cette relation.\n",
    "\n",
    "On pose donc $e_{G \\rightarrow E} = \\frac{\\frac{\\Delta Q_G}{Q_G}}{\\frac{\\Delta P_E}{P_E}} = \n",
    "\\frac{\\Delta Q_G}{\\Delta P_E} \\times \\frac{P_E}{Q_G}$ et de manière symmétrique $e_{E \\rightarrow G} = \\frac{\\Delta Q_E}{\\Delta P_G} \\times \\frac{P_G}{Q_E}$\n",
    "\n",
    "On peut alors remarquer la relation $e_{G \\rightarrow E} e_{E \\rightarrow G} = e_G e_E$."
   ]
  },
  {
   "cell_type": "markdown",
   "metadata": {},
   "source": [
    "2. Le lait brut possède une quantité de matière grasse totale répartie entre les quatre produits. À partir\n",
    "de la teneur en matière grasse de chacun des produits, écrire la contrainte correspondante.\n",
    "\n",
    "On se donne à notre disposition la teneur en matière grasse du produit $k$ notée $\\tau_{g,k}$ ($g$ pour gras). Ces nombres sont nécessairement dans le segment $[0,1]$. On suppose que celle ci sont constantes au cours du temps.\n",
    "\n",
    "Ainsi, la quantité de matière grasse à notre disposition pendant l'année $i$ est $\\tau_{g,LB} Q_{LB}^i$.\n",
    "\n",
    "On arrive donc à écrire, par une équation de conservation de la matière, la contrainte suivante :\n",
    "$$\\tau_{g,LB} Q_{LB}^i = \\sum_{k \\in Prod} {\\tau_{g,k} Q_{k}^i}$$"
   ]
  },
  {
   "cell_type": "markdown",
   "metadata": {},
   "source": [
    "3. De même, le lait brut a une teneur totale en lactose. Formuler la contrainte correspondante\n",
    "\n",
    "Par un raisonnement exactement similaire, en pausant $\\tau_{l,k}$ la teneur en lactose du produit $k$, on trouve :\n",
    "$$\\tau_{l,LB} Q_{LB}^i = \\sum_{k \\in Prod} {\\tau_{l,k} Q_{k}^i}$$"
   ]
  },
  {
   "cell_type": "markdown",
   "metadata": {},
   "source": [
    "4. Afin de garantir la paix sociale, la moyenne des changements de prix relatifs ne doit pas être positive.\n",
    "Écrire la contrainte correspondant (en tenant compte du fait que la moyenne est en fait pondérée par\n",
    "la part de chacun des produits dans le budget).\n",
    "\n",
    "En statistiques, considérant un ensemble de données $ M = \\{m_{1},m_{2},\\dots ,m_{n}\\}$, \n",
    "et les poids non-négatifs correspondants $ \\alpha =\\{\\alpha _{1},\\alpha _{2},\\dots ,\\alpha _{n}\\}$\n",
    "la moyenne pondérée $\\bar{m}$ est calculée suivant la formule :\n",
    "$ {\\bar {m}}={\\frac {\\sum _{i=1}^{n}\\alpha _{i}m_{i}}{\\sum _{i=1}^{n}\\alpha _{i}}}$\n",
    "\n",
    "Dans notre cas, on souhaite regarder la moyenne des changement de prix relatifs, ce qui correspond à l'ensemble de données des $\\frac{\\Delta P_k}{P_k}$ avec $k \\in Prod$.\n",
    "On se prend donc un jeu de quatre poids non négatifs $\\{ \\alpha_k , k \\in Prod \\}$, et l'on se fixe la contrainte que la moyenne suivante soit négative ou nulle (Rq : comme $\\sum _{k\\in Prod}\\alpha _{i}$ est strictement positive, on peut omettre la division en gardant un critère équivalent, ce qui simplifiera les calculs)\n",
    "\n",
    "$$ \\sum_{k \\in Prod}{\\alpha_k \\frac{\\Delta P_k}{P_k}} \\leq 0$$"
   ]
  },
  {
   "cell_type": "code",
   "execution_count": null,
   "metadata": {},
   "outputs": [],
   "source": []
  }
 ],
 "metadata": {
  "kernelspec": {
   "display_name": "Python 3",
   "language": "python",
   "name": "python3"
  },
  "language_info": {
   "codemirror_mode": {
    "name": "ipython",
    "version": 3
   },
   "file_extension": ".py",
   "mimetype": "text/x-python",
   "name": "python",
   "nbconvert_exporter": "python",
   "pygments_lexer": "ipython3",
   "version": "3.7.4"
  }
 },
 "nbformat": 4,
 "nbformat_minor": 2
}
