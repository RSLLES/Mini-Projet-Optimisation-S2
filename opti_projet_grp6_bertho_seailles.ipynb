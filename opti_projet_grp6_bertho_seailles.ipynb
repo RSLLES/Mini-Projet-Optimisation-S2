{
 "cells": [
  {
   "cell_type": "markdown",
   "metadata": {},
   "source": [
    "# Projet d'optimisation Groupe 6 : Tout un fromage"
   ]
  },
  {
   "cell_type": "markdown",
   "metadata": {},
   "source": [
    "## Partie 1 : Modélisation"
   ]
  },
  {
   "cell_type": "markdown",
   "metadata": {},
   "source": [
    "#### Notations générales\n",
    "\n",
    "Dans tous le problème, on notera les différents produits à l'aide des indices suivants : $B$ pour le beurre, $G$ pour le gouda, $E$ pour l'edam et $LT$ pour le lait (transformé).\n",
    "On notera également l'ensemble des produits $Prod = \\{B, G, E, LT \\}$ pour simplifier certaines expressions faisant appelle aux quatres produits. De la même façon, on note $LB$ l'indice pour le lait brut utilisé dans la fabrication des produits précédents.\n",
    "\n",
    "Également, en considérant une grandeur quelconque $Y$, celle ci sera indexée de la forme $Y_k^i$ avec $k \\in Prod$ désignant le produit concerné, et $i \\in \\N$ indiquant l'année à laquelle la grandeur est observée, afin de discrétiser le problème dans le temps. On note $\\Delta^i Y_k = Y^i_k - Y^{i-1}_k$. Il est possible de parfois omettre l'indice $i$ pour plus de lésibilité lorsque qu'il n'y a aucune ammbiguite.\n",
    "\n",
    "Finalement, on introduit les grandeurs suivantes :\n",
    "- $P^i_k$ est le prix du produit $k$ pendant l'année $i$\n",
    "- $Q^i_k$ est la quantité produite et commerciable du produit $k$ pendant l'année $i$"
   ]
  },
  {
   "cell_type": "markdown",
   "metadata": {},
   "source": [
    "#### Questions\n",
    "\n",
    "1. En introduisant l’élasticité-prix de chacun des produits, écrire la relation entre les variations de prix et de quantités produites. Les fromages (gouda et edam) étant des produits ”complémentaires” (qui peuvent se substituer l’un à l’autre), on introduira de plus l’élasticité-prix croisée entre ces deux produits.\n",
    "\n",
    "On définit l'élasticité-prix d'un produit $k \\in Prod$ comme le rapport entre le taux de variation de la demande et le taux de variation du prix du produit. Ainsi, on pose $e$ telle que :\n",
    "\n",
    "$$ \\forall k \\in Prod, e_k = \\frac{\\frac{\\Delta Q_k}{Q_k}}{\\frac{\\Delta P_k}{P_k}} = \n",
    "\\frac{\\Delta Q_k}{\\Delta P_k} \\times \\frac{P_k}{Q_k}$$\n",
    "\n",
    "Ce rapport est généralement négatif, traduisant qu'une augmentation du prix fait chuter la demande.\n",
    "\n",
    "Il est a noté que les deux fromages sont des produits substituables, c'est à dire qu'une augmentation du prix de l'un va diminuer la quantité demandée de celui ci, mais va également produire une augmentation de la quantité demandé de l'autre, puisque les consommateurs se rabattent alors sur l'autre. On peut alors définir l'élasticité-prix croisée pour qualifier cette relation.\n",
    "\n",
    "On pose donc $e_{G \\rightarrow E} = \\frac{\\frac{\\Delta Q_G}{Q_G}}{\\frac{\\Delta P_E}{P_E}} = \n",
    "\\frac{\\Delta Q_G}{\\Delta P_E} \\times \\frac{P_E}{Q_G}$ et de manière symmétrique $e_{E \\rightarrow G} = \\frac{\\Delta Q_E}{\\Delta P_G} \\times \\frac{P_G}{Q_E}$\n",
    "\n",
    "Le concept des produits substituables se traduit alors par une élasticité-prix croisée positive.\n",
    "\n",
    "On peut alors remarquer la relation $e_{G \\rightarrow E} e_{E \\rightarrow G} = e_G e_E$."
   ]
  },
  {
   "cell_type": "markdown",
   "metadata": {},
   "source": [
    "2. Le lait brut possède une quantité de matière grasse totale répartie entre les quatre produits. À partir\n",
    "de la teneur en matière grasse de chacun des produits, écrire la contrainte correspondante.\n",
    "\n",
    "On se donne à notre disposition la teneur en matière grasse du produit $k$ notée $\\tau_{g,k}$ ($g$ pour gras). Ces nombres sont nécessairement dans le segment $[0,1]$. On suppose que celle ci sont constantes au cours du temps.\n",
    "\n",
    "Ainsi, la quantité de matière grasse à notre disposition pendant l'année $i$ est $\\tau_{g,LB} Q_{LB}^i$.\n",
    "\n",
    "On arrive donc à écrire, par une équation de conservation de la matière grasse, la contrainte suivante :\n",
    "$$\\tau_{g,LB} Q_{LB}^i = \\sum_{k \\in Prod} {\\tau_{g,k} Q_{k}^i}$$"
   ]
  },
  {
   "cell_type": "markdown",
   "metadata": {},
   "source": [
    "3. De même, le lait brut a une teneur totale en lactose. Formuler la contrainte correspondante\n",
    "\n",
    "Par un raisonnement exactement similaire, en pausant $\\tau_{l,k}$ la teneur en lactose du produit $k$, on trouve :\n",
    "$$\\tau_{l,LB} Q_{LB}^i = \\sum_{k \\in Prod} {\\tau_{l,k} Q_{k}^i}$$"
   ]
  },
  {
   "cell_type": "markdown",
   "metadata": {},
   "source": [
    "4. Afin de garantir la paix sociale, la moyenne des changements de prix relatifs ne doit pas être positive.\n",
    "Écrire la contrainte correspondant (en tenant compte du fait que la moyenne est en fait pondérée par\n",
    "la part de chacun des produits dans le budget).\n",
    "\n",
    "En statistiques, considérant un ensemble de données $ M = \\{m_{1},m_{2},\\dots ,m_{n}\\}$, \n",
    "et les poids non-négatifs correspondants $ \\alpha =\\{\\alpha _{1},\\alpha _{2},\\dots ,\\alpha _{n}\\}$\n",
    "la moyenne pondérée $\\bar{m}$ est calculée suivant la formule :\n",
    "$ {\\bar {m}}={\\frac {\\sum _{i=1}^{n}\\alpha _{i}m_{i}}{\\sum _{i=1}^{n}\\alpha _{i}}}$\n",
    "\n",
    "Dans notre cas, on souhaite regarder la moyenne des changement de prix relatifs, ce qui correspond à l'ensemble de données des $\\frac{\\Delta P_k}{P_k}$ avec $k \\in Prod$.\n",
    "On se prend donc un jeu de quatre poids non négatifs $\\{ \\alpha_k , k \\in Prod \\}$, et l'on se fixe la contrainte que la moyenne suivante soit négative ou nulle (Rq : comme $\\sum _{k\\in Prod}\\alpha _{i}$ est strictement positive, on peut omettre la division en gardant un critère équivalent, ce qui simplifiera les calculs)\n",
    "\n",
    "$$ \\sum_{k \\in Prod}{\\alpha_k \\frac{\\Delta P_k}{P_k}} \\leq 0$$"
   ]
  },
  {
   "cell_type": "markdown",
   "metadata": {},
   "source": [
    "5. Formuler le problème d'optimisation sous contrainte (au nombre de 7)\n",
    "\n",
    "Si l'on s'en réfère au cours, on cherche à se ramener à un problème de minimisation dans $R^n$ d'une fonction différentiable f à valeurs dans $R$ sous la contrainte $c(x) \\leq 0$, c'est à dire un problème à contraintes inégalités, puisque certaines de nos contraintes sont déjà des inégalités.\n",
    "\n",
    "Il reste donc à transformer les contraintes d'égalités en inégalités, et à trouver les contraintes qui manqueraient. Puisque les contraintes d'égalités sont les équations de conservation de matière grasse et de lactose, on peut supposer qu'il n'est pas impossible qu'une partie en soit perdue lors du processus, et donc obtenir à la place :\n",
    "$$\\sum_{k \\in Prod} {\\tau_{g,k} Q_{k}^i} \\leq \\tau_{g,LB} Q_{LB}^i$$\n",
    "$$\\sum_{k \\in Prod} {\\tau_{l,k} Q_{k}^i} \\leq \\tau_{l,LB} Q_{LB}^i $$\n",
    "\n",
    "Avec la contrainte de la question 4, nous en avons maintenant 3. Il en manque donc 4. Quelles inégalités triviales peut-on obtenir ? \n",
    "On pourrait penser à des inégalités sur les prix. Mais ceux-ci sont-ils nécessairement positifs ? En réalité, non, car il serait tout à fait possible que les prix soient négatifs dans le sens où l'Etat paie pour que les gens consomment du fromage... \n",
    "Quid des quantités ? On se rend compte que celles-ci ne peuvent pas être négatives au sens où on les a définies. Ainsi il vient pour toute année i et tout produit k :\n",
    "$$0 \\leq Q^i_k$$\n",
    "\n",
    "On a maintenant bien 7 contraintes.\n",
    "Par ailleurs, 6 d'entre elles ne dépendent que des quantités. Pour simplifier le problème, essayons de ramener la 7ème, celle de la question 4, aux mêmes inconnues :\n",
    "$$ \\sum_{k \\in Prod}{\\alpha_k \\frac{\\Delta P_k}{P_k}}=\\sum_{k \\in Prod}{\\alpha_k \\frac{\\Delta Q_k}{Q_k} \\frac{1}{e_k}}$$\n",
    "\n",
    "D'où la possibilité d'écrire :\n",
    "$$\\sum_{k \\in Prod}{\\alpha_k \\frac{\\Delta Q_k}{Q_k} \\frac{1}{e_k}} \\leq 0$$\n",
    "\n",
    "\n",
    "\n",
    "$$$$\n",
    "$$$$\n",
    "\n",
    "Que cherche-t-on à maximiser ? Les revenus de l'année i+1 sachant toutes les variables de l'année i, soit $\\sum_{k \\in Prod} {P_{k}^{i+1} Q_{k}^{i+1}}$.\n",
    "\n",
    "Peut-on exprimer cette grandeur uniquement en fonction des inconnues quantités de l'année i+1 ? Oui, en discrétisant les élasticités de la question 1., on peut écrire les prix de l'année i+1 :\n",
    "$P_{k}^{i+1}=P_k^{i}+ \\frac{1}{e_k P_k^i} \\frac{\\delta Q_k^{i+1} - Q_k^i}{Q_k^i}$\n",
    "\n"
   ]
  },
  {
   "cell_type": "markdown",
   "metadata": {},
   "source": [
    "#### Problème"
   ]
  },
  {
   "cell_type": "markdown",
   "metadata": {},
   "source": [
    "Ainsi, on va poser la fonction à minimiser :\n",
    "$$f(\\vec{Q^{i+1}})=- \\sum_{k \\in Prod} {(P_k^{i}+ \\frac{1}{e_k P_k^i} \\frac{\\delta Q_k^{i+1} - Q_k^i}{Q_k^i}) * Q_{k}^{i+1}}$$\n",
    "\n",
    "Où \n",
    "$$\n",
    "\\vec{Q^{i+1}}=\\begin{pmatrix}\n",
    "Q_B^{i+1} \\\\[3mm]\n",
    "Q_G^{i+1} \\\\[3mm]\n",
    "Q_E^{i+1} \\\\[3mm]\n",
    "Q_{LT}^{i+1}\\\\[3mm]\n",
    "Q_{LB}^{i+1}\n",
    "\\end{pmatrix}\n",
    "$$\n",
    "\n",
    "Et on pose la contrainte :\n",
    "$$c(\\vec{Q^{i+1}})=\\begin{pmatrix}\n",
    "- Q_B^{i+1} \\\\[3mm]\n",
    "- Q_G^{i+1} \\\\[3mm]\n",
    "- Q_E^{i+1} \\\\[3mm]\n",
    "- Q_{LT}^{i+1}\\\\[3mm]\n",
    "\\sum_{k \\in Prod} {\\tau_{g,k} Q_{k}^{i+1}} - \\tau_{g,LB} Q_{LB}^{i+1}\\\\[3mm]\n",
    "\\sum_{k \\in Prod} {\\tau_{l,k} Q_{k}^{i+1}} - \\tau_{l,LB} Q_{LB}^{i+1}\\\\[3mm]\n",
    "\\sum_{k \\in Prod}{\\alpha_k \\frac{\\Delta Q_k^{i+1}}{Q_k^{i+1}} \\frac{1}{e_k}}\\\\\n",
    "\\end{pmatrix}$$\n",
    "\n",
    "\n",
    "\n",
    "On peut vérifier que f et c sont différentiables. On a bien le problème de minimisation :\n",
    "$$\\min_{c(\\vec{Q^{i+1}}) \\leq 0}{f(\\vec{Q^{i+1}})}$$"
   ]
  },
  {
   "cell_type": "markdown",
   "metadata": {},
   "source": [
    "## Partie 2 : Etude du problème"
   ]
  },
  {
   "cell_type": "markdown",
   "metadata": {},
   "source": [
    "### 1) Ecriture du problème sous forme vectorielle"
   ]
  },
  {
   "cell_type": "markdown",
   "metadata": {},
   "source": [
    "Nous allons dans un premier temps essayer d'écrire le problème de manière plus synthétique sous forme vectorielle.\n",
    "\n",
    "#### a) Contraintes de positivité des quantités\n",
    "Concentrons nous d'abord sur les contraintes d'inégalités. La contrainte $Q_B^{i+1} \\geq 0$ peut naturellement avec les notations précédente se réecrire avec la fonction $c_1(\\vec{x}) = -(\\vec{e_1}|\\vec{x})$ où $\\vec{e_1} = \\begin{pmatrix} 1&0&0&0&0 \\end{pmatrix}$, car alors $c_1(\\vec{Q_B^{i+1}}) = -\n",
    "\\begin{pmatrix} 1&0&0&0 \\end{pmatrix} . \n",
    "{\\begin{pmatrix}Q_B^{i+1} & Q_G^{i+1} & Q_E^{i+1} & Q_{LT}^{i+1} & Q_{LB}^{i+1} \\end{pmatrix}}^T\n",
    "= -Q_B^{i+1} \\leq 0$.\n",
    "\n",
    "De manière strictement identique en utilisant les vecteurs $\\vec{e_2}, \\vec{e_3}$ et $\\vec{e_4}$, les 4 premières contraintes sont linéaires.\n",
    "\n",
    "#### b) Contraintes de conservation\n",
    "Concernant la contrainte suivante, on peut remarquer qu'elle peut également se réécrire en posant le vecteur $\\vec{\\tau_g} = \\begin{pmatrix} \\tau_{g,B} &\\tau_{g,G} &\\tau_{g,E} &\\tau_{g,LT} &-\\tau_{g,LB} \\end{pmatrix}$, avec la fonction \n",
    "$c_5 (\\vec{Q_B^{i+1}}) = \\vec{\\tau_g}.\\vec{Q_B^{i+1}} \\leq 0$. \n",
    "\n",
    "Il en est exactement de même pour la contrainte suivante à l'aide du vecteur \n",
    "$\\vec{\\tau_l} = \\begin{pmatrix} \\tau_{l,B} &\\tau_{l,G} &\\tau_{l,E} &\\tau_{l,LT} &-\\tau_{l,LB} \\end{pmatrix}$\n",
    "\n",
    "#### c) Contrainte de bonheur\n",
    "La contrainte $\\sum_{k \\in Prod}{\\alpha_k \\frac{\\Delta Q_k}{Q_k} \\frac{1}{e_k}} \\leq 0$ est une peu plus délicate. On peut la réécrire comme :\n",
    "$$\\sum_{k \\in Prod}{\\alpha_k \\frac{Q_k^{i+1}-Q_k^{i}}{Q_k^i} \\frac{1}{e_k}} =\n",
    "\\sum_{k \\in Prod}{Q_k^{i+1} \\frac{\\alpha_k}{e_k Q_k^{i}}} - \\sum_{k \\in Prod}{\\frac{\\alpha_k }{e_k}}$$\n",
    "En notant $C = \\sum_{k \\in Prod}{\\frac{\\alpha_k }{e_k}}$ (qui est donc une constante du problème), on peut poser \n",
    "$c_6 (\\vec{Q^{i+1}}) = \\vec{Q^{i+1}}.\\vec{\\alpha_i} - C$ avec \n",
    "$\\vec{\\alpha_i} = \\begin{pmatrix} \\frac{\\alpha_B}{Q_B^i e_B} & \\frac{\\alpha_G}{Q_G^i e_G} & \\frac{\\alpha_E}{Q_E^i e_E} & \\frac{\\alpha_{LT}}{Q_{LT}^i e_{LT}} & 0 \\end{pmatrix}$.\n",
    "\n",
    "#### d) Synthèse des contraintes\n",
    "\n",
    "On remarque que **toutes les contraintes sont affines** (voir linéaire). On peut donc essayer de synthétiser toutes ces contraintes sous la forme d'un unique produit matriciel.\n",
    "\n",
    "On va donc poser les matrices suivantes :\n",
    "$$ A^i = \n",
    "\\begin{pmatrix}\n",
    "{e_1}^T \\\\ {e_2}^T \\\\ {e_3}^T \\\\ {e_4}^T \\\\ {\\tau_g}^T \\\\ {\\tau_l}^T \\\\ {\\alpha_i}^T\n",
    "\\end{pmatrix} = \n",
    "\\begin{pmatrix}\n",
    "1&0&0&0&0 \\\\\n",
    "0&1&0&0&0 \\\\\n",
    "0&0&1&0&0 \\\\\n",
    "0&0&0&1&0 \\\\\n",
    "\\tau_{g,B} &\\tau_{g,G} &\\tau_{g,E} &\\tau_{g,LT} &-\\tau_{g,LB} \\\\\n",
    "\\tau_{l,B} &\\tau_{l,G} &\\tau_{l,E} &\\tau_{l,LT} &-\\tau_{l,LB} \\\\\n",
    "\\frac{\\alpha_B}{Q_B^i e_B} & \\frac{\\alpha_G}{Q_G^i e_G} & \\frac{\\alpha_E}{Q_E^i e_E} & \\frac{\\alpha_{LT}}{Q_{LT}^i e_{LT}} & 0\n",
    "\\end{pmatrix}\n",
    "\\text{ et }\n",
    "b = \\begin{pmatrix} 0 \\\\ 0 \\\\ 0 \\\\ 0 \\\\ 0 \\\\ 0 \\\\ C \\end{pmatrix}\n",
    "$$\n",
    "\n",
    "Et alors le problème se résume de manière vectorielle en une seule ligne : $c(\\vec{Q^{i+1}}) = A^i.Q^{i+1} - b \\leq 0$."
   ]
  },
  {
   "cell_type": "markdown",
   "metadata": {},
   "source": [
    "#### e) Cas de la fonction $f$\n",
    "\n",
    "Nous allons également la réécrire sous forme vectorielle.\n",
    "On pose $D^i = \\text{Diag}\\begin{pmatrix}\n",
    "\\frac{1}{e_B P_B^i Q_B^i} &\n",
    "\\frac{1}{e_G P_G^i Q_G^i} &\n",
    "\\frac{1}{e_E P_E^i Q_E^i} &\n",
    "\\frac{1}{e_{LT} P_{LT}^i Q_{LT}^i} & 0 \n",
    "\\end{pmatrix}$.\n",
    "\n",
    "ainsi que $\\vec{P^i} = \\begin{pmatrix}P_B^{i} & P_G^{i} & P_E^{i} & P_{LT}^{i} & 0 \\end{pmatrix}$ vecteur du prix auquel l'on a vendu nos différents produits pendant l'année $i$.\n",
    "\n",
    "Alors : \n",
    "$$f(\\vec{Q^{i+1}})=- \\sum_{k \\in Prod} {(P_k^{i}+ \\frac{1}{e_k P_k^i} \\frac{Q_k^{i+1} - Q_k^i}{Q_k^i}) Q_{k}^{i+1}} =\n",
    "- ( \\vec{P^i} + \n",
    "D^i.(\\vec{Q^{i+1}} - \\vec{Q^{i}}) ). \\vec{Q^{i+1}} $$\n",
    "\n",
    "En développant $f$, on trouve $f(x) = \\frac{1}{2}x^T.(-2D^i).x + (P^i - D^i Q^i)^T.x$. On peut alors poser $G^i = -2D^i$ qui est bien une matrice symmétrique (car diagonale) définie positive car les élasticités sont négatives et les prix sontnà priori positifs. Et on note $d^i = (P^i - D^i Q^i)$, ce qui permet de réécrire $f$ sous la forme :\n",
    "$$ f(x) = \\frac{1}{2}x^T.G^i.x + {d^i}^T.x$$\n",
    "\n",
    "Nous avons donc bien à faire à une **fonction quadratique**."
   ]
  },
  {
   "cell_type": "markdown",
   "metadata": {},
   "source": [
    "### 2) Mise en place de l'algorithme\n",
    "\n",
    "On remarque donc que le problème, bien plus que de n'être qu'un problème convexe, est un **problème de programmation quadratique sous contraintes affines**. Nous pouvons donc utiliser **l'algorithme des contraintes actives QP** qui est un algortihme éfficace dans la résolution de ce genre de problème."
   ]
  }
 ],
 "metadata": {
  "kernelspec": {
   "display_name": "Python 3",
   "language": "python",
   "name": "python3"
  },
  "language_info": {
   "codemirror_mode": {
    "name": "ipython",
    "version": 3
   },
   "file_extension": ".py",
   "mimetype": "text/x-python",
   "name": "python",
   "nbconvert_exporter": "python",
   "pygments_lexer": "ipython3",
   "version": "3.7.4"
  }
 },
 "nbformat": 4,
 "nbformat_minor": 2
}
